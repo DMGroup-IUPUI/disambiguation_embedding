{
 "cells": [
  {
   "cell_type": "code",
   "execution_count": null,
   "metadata": {},
   "outputs": [],
   "source": [
    "import numpy as np\n"
   ]
  },
  {
   "cell_type": "code",
   "execution_count": null,
   "metadata": {},
   "outputs": [],
   "source": [
    "matrix = np.array([[1,2,3], [3,4,5]])"
   ]
  },
  {
   "cell_type": "code",
   "execution_count": null,
   "metadata": {},
   "outputs": [],
   "source": [
    "print matrix"
   ]
  },
  {
   "cell_type": "code",
   "execution_count": null,
   "metadata": {},
   "outputs": [],
   "source": [
    "import sklearn"
   ]
  },
  {
   "cell_type": "code",
   "execution_count": null,
   "metadata": {},
   "outputs": [],
   "source": [
    "import tensorflow as tf"
   ]
  },
  {
   "cell_type": "code",
   "execution_count": null,
   "metadata": {},
   "outputs": [],
   "source": [
    "import numpy as np\n",
    "import tensorflow as tf\n",
    "\n",
    "\n",
    "def optimization():\n",
    "    #coefficients = np.array([[1], [-10], [25]])\n",
    "    w = tf.Variable([0], dtype = tf.float32)\n",
    "    x = tf.placeholder(tf.float32, [3, 1])\n",
    "\n",
    "    cost = x[0][0]*w**2 + x[1][0]*w + x[2][0]\n",
    "    train_op = tf.train.GradientDescentOptimizer(0.01).minimize(cost)\n",
    "    \n",
    "    return train_op, w, x\n",
    "\n",
    "\n",
    "def generate_func(weight):\n",
    "    print weight\n",
    "\n",
    "\n",
    "def run(coefficients):\n",
    "\n",
    "    with tf.Session() as session:\n",
    "\n",
    "        train_op, w, x = optimization()\n",
    "        session.run(tf.initialize_all_variables())\n",
    "\n",
    "        for _ in xrange(1000):\n",
    "            weight = session.run(w)\n",
    "            generate_func(weight)\n",
    "            session.run(train_op, feed_dict = {x: coefficients})\n",
    "\n",
    "\n",
    "if __name__ == \"__main__\":\n",
    "\n",
    "    coefficients = np.array([[1], [-10], [25]])\n",
    "    run(coefficients)\n"
   ]
  },
  {
   "cell_type": "code",
   "execution_count": null,
   "metadata": {},
   "outputs": [],
   "source": [
    "filetoread = open(\"../citeseerx_raw_dataset/clean_data/SLee.txt\", 'r')"
   ]
  },
  {
   "cell_type": "code",
   "execution_count": null,
   "metadata": {},
   "outputs": [],
   "source": [
    "for line in filetoread:\n",
    "    print line"
   ]
  },
  {
   "cell_type": "code",
   "execution_count": null,
   "metadata": {},
   "outputs": [],
   "source": []
  },
  {
   "cell_type": "code",
   "execution_count": null,
   "metadata": {},
   "outputs": [],
   "source": []
  }
 ],
 "metadata": {
  "kernelspec": {
   "display_name": "Python 2",
   "language": "python",
   "name": "python2"
  },
  "language_info": {
   "codemirror_mode": {
    "name": "ipython",
    "version": 2
   },
   "file_extension": ".py",
   "mimetype": "text/x-python",
   "name": "python",
   "nbconvert_exporter": "python",
   "pygments_lexer": "ipython2",
   "version": "2.7.6"
  }
 },
 "nbformat": 4,
 "nbformat_minor": 2
}
